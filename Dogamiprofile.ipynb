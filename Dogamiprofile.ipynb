{
 "cells": [
  {
   "cell_type": "code",
   "execution_count": 5,
   "metadata": {},
   "outputs": [],
   "source": [
    "import numpy as np\n",
    "import pandas as pd\n",
    "import requests\n",
    "import json\n",
    "from datetime import datetime\n",
    "import time\n",
    "from collections import Counter\n"
   ]
  },
  {
   "cell_type": "code",
   "execution_count": 7,
   "metadata": {},
   "outputs": [
    {
     "name": "stdout",
     "output_type": "stream",
     "text": [
      "[6, 7, 8, 9, 10, 11]\n"
     ]
    }
   ],
   "source": [
    "#aquery = 'query MyQuery {\\n  token(\\n    where: {fa: {contract: {_eq: \"KT1NVvPsNDChrLRH5K2cy6Sc9r1uuUwdiZQd\"}}, token_id: {_in: '+ '['+','.join(f'\"{item}\"' for item in list(num)) + ']' +'}}\\n  ) {   \\n    display_uri\\n    extra\\n    flag\\n    highest_offer\\n    is_boolean_amount\\n    last_listed\\n    last_metadata_update\\n    level\\n    lowest_ask\\n    name\\n    ophash\\n    \\n    supply\\n    symbol\\n    thumbnail_uri\\n    timestamp\\n    pk\\n    token_id\\n  }\\n}\\n'\n",
    "num= range(6,12)\n",
    "url = \"https://data.objkt.com/v2/graphql\"\n",
    "print(list(num))\n"
   ]
  },
  {
   "cell_type": "code",
   "execution_count": 96,
   "metadata": {},
   "outputs": [
    {
     "data": {
      "text/plain": [
       "240.0"
      ]
     },
     "execution_count": 96,
     "metadata": {},
     "output_type": "execute_result"
    }
   ],
   "source": [
    "del(df)"
   ]
  },
  {
   "cell_type": "code",
   "execution_count": null,
   "metadata": {},
   "outputs": [],
   "source": [
    "\"\"\" data =pd.Series([])\n",
    "for i in range(1,241):\n",
    "    num = range(50*i-49, 50*i+1)\n",
    "    print(list(num))\n",
    "    aquery = 'query MyQuery {\\n  token(\\n    where: {fa: {contract: {_eq: \"KT1NVvPsNDChrLRH5K2cy6Sc9r1uuUwdiZQd\"}}, token_id: {_in: '+ '['+','.join(f'\"{item}\"' for item in list(num)) + ']' +'}}\\n  ) {   \\n    display_uri\\n    extra\\n    flag\\n    highest_offer\\n    is_boolean_amount\\n    last_listed\\n    last_metadata_update\\n    level\\n    lowest_ask\\n    name\\n    ophash\\n    \\n    supply\\n    symbol\\n    thumbnail_uri\\n    timestamp\\n    pk\\n    token_id\\n  }\\n}\\n'\n",
    "    r = requests.post(url, json={'query': aquery})\n",
    "    time.sleep(0.2)\n",
    "    print(r.status_code)\n",
    "    json_data = json.loads(r.text)\n",
    "    df = pd.json_normalize(json_data, record_path=['data','token'])\n",
    "    #put df into data\n",
    "    for row in range(len(df)):\n",
    "        data = pd.concat([data,df.iloc[row]],axis=1,ignore_index= True) \"\"\"\n",
    "    "
   ]
  },
  {
   "cell_type": "code",
   "execution_count": 198,
   "metadata": {},
   "outputs": [],
   "source": [
    "#transform data\n",
    "Metadata_table = pd.DataFrame(data).transpose()"
   ]
  },
  {
   "cell_type": "code",
   "execution_count": 199,
   "metadata": {},
   "outputs": [
    {
     "data": {
      "text/plain": [
       "12000"
      ]
     },
     "execution_count": 199,
     "metadata": {},
     "output_type": "execute_result"
    }
   ],
   "source": [
    "#Exclude the first Null row\n",
    "Metadata_table = Metadata_table[1:12001]\n",
    "len(np.unique(Metadata_table[\"pk\"]))"
   ]
  },
  {
   "cell_type": "code",
   "execution_count": 48,
   "metadata": {},
   "outputs": [
    {
     "name": "stdout",
     "output_type": "stream",
     "text": [
      "Stored 'Metadata_table' (DataFrame)\n"
     ]
    }
   ],
   "source": [
    "%store Metadata_table\n",
    "#Metadata_table.to_excel(\"Metadata_table.xlsx\", sheet_name=\"dogami\")"
   ]
  },
  {
   "cell_type": "code",
   "execution_count": 44,
   "metadata": {},
   "outputs": [],
   "source": [
    "#reload the metadata\n",
    "\"\"\" Metadata_table = pd.read_excel(\"Metadata_table.xlsx\", sheet_name=\"dogami\")\n",
    "Metadata_table.drop(columns=[\"Unnamed: 0\"], inplace=True) \"\"\""
   ]
  },
  {
   "cell_type": "code",
   "execution_count": 47,
   "metadata": {},
   "outputs": [
    {
     "data": {
      "text/plain": [
       "RangeIndex(start=0, stop=12000, step=1)"
      ]
     },
     "execution_count": 47,
     "metadata": {},
     "output_type": "execute_result"
    }
   ],
   "source": []
  },
  {
   "cell_type": "code",
   "execution_count": 1,
   "metadata": {},
   "outputs": [],
   "source": [
    "%store -r"
   ]
  },
  {
   "cell_type": "code",
   "execution_count": 1,
   "metadata": {},
   "outputs": [
    {
     "data": {
      "text/plain": [
       "\" r = requests.post(url, json={'query': aquery})\\nprint(r.status_code)\\njson_data = json.loads(r.text)\\nprint(type(json_data))\\ndf = pd.json_normalize(json_data, record_path=['data','token'])\\n#df = pd.json_normalize(json_data, record_path=['errors'])\\ndf.head() \""
      ]
     },
     "execution_count": 1,
     "metadata": {},
     "output_type": "execute_result"
    }
   ],
   "source": [
    "query = \"\"\"query MyQuery {\n",
    "  token(\n",
    "    where: {fa: {contract: {_eq: \"KT1NVvPsNDChrLRH5K2cy6Sc9r1uuUwdiZQd\"}}, token_id: {_in: [\"1\", \"2\"]}}\n",
    "  ) {   \n",
    "    display_uri\n",
    "    extra\n",
    "    flag\n",
    "    highest_offer\n",
    "    is_boolean_amount\n",
    "    last_listed\n",
    "    last_metadata_update\n",
    "    level\n",
    "    lowest_ask\n",
    "    name\n",
    "    ophash\n",
    "    \n",
    "    supply\n",
    "    symbol\n",
    "    thumbnail_uri\n",
    "    timestamp\n",
    "    token_id\n",
    "    pk\n",
    "  }\n",
    "}\n",
    "\"\"\"\n",
    "url = \"https://data.objkt.com/v2/graphql\"\n",
    "\n",
    "\"\"\" r = requests.post(url, json={'query': aquery})\n",
    "print(r.status_code)\n",
    "json_data = json.loads(r.text)\n",
    "print(type(json_data))\n",
    "df = pd.json_normalize(json_data, record_path=['data','token'])\n",
    "#df = pd.json_normalize(json_data, record_path=['errors'])\n",
    "df.head() \"\"\""
   ]
  },
  {
   "cell_type": "markdown",
   "metadata": {
    "tags": [
     "Sort the table"
    ]
   },
   "source": [
    "#Sort the Table"
   ]
  },
  {
   "cell_type": "code",
   "execution_count": 2,
   "metadata": {},
   "outputs": [
    {
     "name": "stdout",
     "output_type": "stream",
     "text": [
      "<class 'pandas.core.frame.DataFrame'>\n",
      "RangeIndex: 12000 entries, 0 to 11999\n",
      "Data columns (total 17 columns):\n",
      " #   Column                Non-Null Count  Dtype  \n",
      "---  ------                --------------  -----  \n",
      " 0   display_uri           12000 non-null  object \n",
      " 1   extra                 12000 non-null  object \n",
      " 2   flag                  12000 non-null  object \n",
      " 3   highest_offer         12000 non-null  int64  \n",
      " 4   is_boolean_amount     12000 non-null  bool   \n",
      " 5   last_listed           4978 non-null   object \n",
      " 6   last_metadata_update  12000 non-null  object \n",
      " 7   level                 12000 non-null  int64  \n",
      " 8   lowest_ask            442 non-null    float64\n",
      " 9   name                  12000 non-null  object \n",
      " 10  ophash                12000 non-null  object \n",
      " 11  supply                12000 non-null  int64  \n",
      " 12  symbol                0 non-null      float64\n",
      " 13  thumbnail_uri         12000 non-null  object \n",
      " 14  timestamp             12000 non-null  object \n",
      " 15  pk                    12000 non-null  int64  \n",
      " 16  token_id              12000 non-null  int64  \n",
      "dtypes: bool(1), float64(2), int64(5), object(9)\n",
      "memory usage: 1.5+ MB\n"
     ]
    }
   ],
   "source": [
    "Metadata_table.info()"
   ]
  },
  {
   "cell_type": "code",
   "execution_count": 7,
   "metadata": {},
   "outputs": [],
   "source": [
    "\"\"\" #transform the time\n",
    "def string_to_time(x):\n",
    "    if x!= 'None':\n",
    "        return datetime.strptime(x, \"%Y-%m-%dT%H:%M:%S+00:00\").isoformat()\n",
    "    else:\n",
    "        return x \"\"\"\n",
    "    \n",
    "#transform the time\n",
    "def string_to_time(x):\n",
    "    if x!= 'nan':\n",
    "        return datetime.strptime(x, \"%Y-%m-%dT%H:%M:%S+00:00\").isoformat()\n",
    "    else:\n",
    "        return x"
   ]
  },
  {
   "cell_type": "code",
   "execution_count": 8,
   "metadata": {},
   "outputs": [
    {
     "data": {
      "text/plain": [
       "[('2022-03-03T15:30:54+00:00', 67),\n",
       " ('2022-03-03T15:27:54+00:00', 57),\n",
       " ('2022-07-06T17:33:44+00:00', 50),\n",
       " ('2022-07-06T17:37:29+00:00', 50),\n",
       " ('2022-07-06T16:57:59+00:00', 50),\n",
       " ('2022-07-06T16:13:59+00:00', 50),\n",
       " ('2022-07-06T17:32:14+00:00', 50),\n",
       " ('2022-07-06T17:29:44+00:00', 50),\n",
       " ('2022-07-06T16:09:59+00:00', 50),\n",
       " ('2022-07-06T16:16:59+00:00', 50),\n",
       " ('2022-07-06T18:13:44+00:00', 50),\n",
       " ('2022-07-06T16:14:59+00:00', 50),\n",
       " ('2022-07-06T16:11:59+00:00', 50),\n",
       " ('2022-07-06T16:52:29+00:00', 50),\n",
       " ('2022-07-06T16:23:44+00:00', 50),\n",
       " ('2022-07-06T17:04:59+00:00', 50),\n",
       " ('2022-07-06T16:04:29+00:00', 50),\n",
       " ('2022-07-06T17:35:44+00:00', 50),\n",
       " ('2022-07-06T16:51:29+00:00', 50),\n",
       " ('2022-07-06T16:09:29+00:00', 50),\n",
       " ('2022-07-06T16:06:29+00:00', 50),\n",
       " ('2022-07-06T16:15:59+00:00', 50),\n",
       " ('2022-07-06T17:31:44+00:00', 50),\n",
       " ('2022-07-06T18:12:44+00:00', 50),\n",
       " ('2022-07-06T16:26:59+00:00', 50),\n",
       " ('2022-07-06T16:26:29+00:00', 50),\n",
       " ('2022-07-06T16:21:14+00:00', 50),\n",
       " ('2022-07-06T16:19:44+00:00', 50),\n",
       " ('2022-07-06T17:21:14+00:00', 50),\n",
       " ('2022-07-06T16:54:29+00:00', 50),\n",
       " ('2022-07-06T16:24:59+00:00', 50),\n",
       " ('2022-07-06T16:22:14+00:00', 50),\n",
       " ('2022-07-06T16:58:59+00:00', 50),\n",
       " ('2022-07-06T17:28:14+00:00', 50),\n",
       " ('2022-07-06T17:30:44+00:00', 50),\n",
       " ('2022-07-06T16:21:44+00:00', 50),\n",
       " ('2022-07-06T17:28:44+00:00', 50),\n",
       " ('2022-03-03T15:26:54+00:00', 50),\n",
       " ('2022-07-06T16:28:59+00:00', 49),\n",
       " ('2022-07-06T17:34:14+00:00', 49),\n",
       " ('2022-07-06T17:02:29+00:00', 49),\n",
       " ('2022-07-06T16:50:59+00:00', 49),\n",
       " ('2022-07-06T18:58:29+00:00', 49),\n",
       " ('2022-07-06T18:15:44+00:00', 49),\n",
       " ('2022-07-06T18:15:14+00:00', 49),\n",
       " ('2022-07-06T17:20:14+00:00', 49),\n",
       " ('2022-07-06T17:29:14+00:00', 49),\n",
       " ('2022-07-06T16:10:29+00:00', 49),\n",
       " ('2022-07-06T17:00:59+00:00', 49),\n",
       " ('2022-07-06T16:10:59+00:00', 49)]"
      ]
     },
     "execution_count": 8,
     "metadata": {},
     "output_type": "execute_result"
    }
   ],
   "source": [
    "Metadata_table[\"last_listed\"]= Metadata_table[\"last_listed\"].astype('str')\n",
    "Counter(Metadata_table['last_metadata_update'].astype('str')).most_common(50)"
   ]
  },
  {
   "cell_type": "code",
   "execution_count": 9,
   "metadata": {},
   "outputs": [
    {
     "data": {
      "text/plain": [
       "0"
      ]
     },
     "execution_count": 9,
     "metadata": {},
     "output_type": "execute_result"
    }
   ],
   "source": [
    "Metadata_table[\"last_listed\"]\n",
    "#Metadata_table[\"last_listed\"] = list(map(string_to_time, Metadata_table[\"last_listed\"]))\n",
    "Metadata_table[\"last_listed\"]= Metadata_table[\"last_listed\"].astype('str').apply(string_to_time)\n",
    "sum(pd.isnull(Metadata_table[\"last_listed\"].astype('str')))"
   ]
  },
  {
   "cell_type": "code",
   "execution_count": 10,
   "metadata": {},
   "outputs": [],
   "source": [
    "Metadata_table['last_metadata_update'] = Metadata_table[\"last_metadata_update\"].astype('str').apply(string_to_time)"
   ]
  },
  {
   "cell_type": "code",
   "execution_count": 11,
   "metadata": {},
   "outputs": [
    {
     "name": "stdout",
     "output_type": "stream",
     "text": [
      "<class 'pandas.core.frame.DataFrame'>\n",
      "RangeIndex: 12000 entries, 0 to 11999\n",
      "Data columns (total 17 columns):\n",
      " #   Column                Non-Null Count  Dtype  \n",
      "---  ------                --------------  -----  \n",
      " 0   display_uri           12000 non-null  object \n",
      " 1   extra                 12000 non-null  object \n",
      " 2   flag                  12000 non-null  object \n",
      " 3   highest_offer         12000 non-null  int64  \n",
      " 4   is_boolean_amount     12000 non-null  bool   \n",
      " 5   last_listed           12000 non-null  object \n",
      " 6   last_metadata_update  12000 non-null  object \n",
      " 7   level                 12000 non-null  int64  \n",
      " 8   lowest_ask            442 non-null    float64\n",
      " 9   name                  12000 non-null  object \n",
      " 10  ophash                12000 non-null  object \n",
      " 11  supply                12000 non-null  int64  \n",
      " 12  symbol                0 non-null      float64\n",
      " 13  thumbnail_uri         12000 non-null  object \n",
      " 14  timestamp             12000 non-null  object \n",
      " 15  pk                    12000 non-null  int64  \n",
      " 16  token_id              12000 non-null  int64  \n",
      "dtypes: bool(1), float64(2), int64(5), object(9)\n",
      "memory usage: 1.5+ MB\n"
     ]
    }
   ],
   "source": [
    "Metadata_table.info()"
   ]
  },
  {
   "cell_type": "code",
   "execution_count": 12,
   "metadata": {},
   "outputs": [
    {
     "name": "stdout",
     "output_type": "stream",
     "text": [
      "2022-03-03T15:02:54 2022-07-06T16:27:29\n"
     ]
    },
    {
     "data": {
      "text/plain": [
       "True"
      ]
     },
     "execution_count": 12,
     "metadata": {},
     "output_type": "execute_result"
    }
   ],
   "source": [
    "print(Metadata_table['last_metadata_update'][0],Metadata_table['last_metadata_update'][3])\n",
    "Metadata_table['last_metadata_update'][0]<Metadata_table['last_metadata_update'][3]"
   ]
  },
  {
   "cell_type": "markdown",
   "metadata": {},
   "source": [
    "#Get the Token that is a Puppy not a box"
   ]
  },
  {
   "cell_type": "code",
   "execution_count": 14,
   "metadata": {},
   "outputs": [
    {
     "name": "stdout",
     "output_type": "stream",
     "text": [
      "Stored 'Metadata_2' (DataFrame)\n"
     ]
    }
   ],
   "source": [
    "Metadata_2 =Metadata_table\n",
    "%store Metadata_2"
   ]
  },
  {
   "cell_type": "markdown",
   "metadata": {},
   "source": [
    "#To transform the date format to ISO8601"
   ]
  },
  {
   "cell_type": "code",
   "execution_count": 188,
   "metadata": {},
   "outputs": [],
   "source": [
    "#transform the time\n",
    "def string_to_time(x):\n",
    "    if pd.notnull(x):\n",
    "        return datetime.strptime(x, \"%Y-%m-%dT%H:%M:%S+00:00\").isoformat()\n",
    "    else:\n",
    "        return x"
   ]
  },
  {
   "cell_type": "code",
   "execution_count": 189,
   "metadata": {},
   "outputs": [
    {
     "data": {
      "text/plain": [
       "'2022-02-24T02:17:50'"
      ]
     },
     "execution_count": 189,
     "metadata": {},
     "output_type": "execute_result"
    }
   ],
   "source": [
    "string_to_time('2022-02-24T02:17:50+00:00')\n",
    "pd.notnull(Metadata_table[\"last_listed\"])"
   ]
  },
  {
   "cell_type": "code",
   "execution_count": 183,
   "metadata": {},
   "outputs": [
    {
     "data": {
      "text/plain": [
       "range(0, 12000)"
      ]
     },
     "execution_count": 183,
     "metadata": {},
     "output_type": "execute_result"
    }
   ],
   "source": [
    "range(12000)"
   ]
  },
  {
   "cell_type": "markdown",
   "metadata": {},
   "source": [
    "Add variables in the query string"
   ]
  },
  {
   "cell_type": "code",
   "execution_count": 74,
   "metadata": {},
   "outputs": [],
   "source": [
    "aquery = 'query MyQuery {\\n  token_attribute(\\n    where: {token: {fa: {contract: {_eq: \"KT1NVvPsNDChrLRH5K2cy6Sc9r1uuUwdiZQd\"}}, token_id: {_in: '+ '['+','.join(f'\"{item}\"' for item in list(num)) + ']' +' }}}\\n  ) {\\n    id\\n    attribute_id\\n    attribute {\\n      id\\n      type\\n      value\\n      name\\n    }\\n    token {\\n      token_id\\n      last_metadata_update\\n      holders {\\n        holder_address\\n      }\\n    }\\n  }\\n}\\n'"
   ]
  },
  {
   "cell_type": "code",
   "execution_count": 10,
   "metadata": {},
   "outputs": [
    {
     "data": {
      "text/plain": [
       "'[\"1\",\"2\",\"3\"]'"
      ]
     },
     "execution_count": 10,
     "metadata": {},
     "output_type": "execute_result"
    }
   ],
   "source": [
    "'what happened{0} is good\\n ok \\n what \\n is '.format(list(num))\n",
    "'['+','.join(f'\"{item}\"' for item in list(num)) + ']'"
   ]
  },
  {
   "cell_type": "code",
   "execution_count": 26,
   "metadata": {},
   "outputs": [
    {
     "data": {
      "text/plain": [
       "'[\"1\",\"2\",\"3\"]'"
      ]
     },
     "execution_count": 26,
     "metadata": {},
     "output_type": "execute_result"
    }
   ],
   "source": [
    "import pandas as pd\n",
    "num = pd.Series([1,2,3])\n",
    "'['+','.join(f'\"{item}\"' for item in list(num)) + ']'"
   ]
  },
  {
   "cell_type": "code",
   "execution_count": null,
   "metadata": {},
   "outputs": [],
   "source": [
    "aquery = 'query MyQuery {\\n  token_attribute(\\n    where: {token: {fa: {contract: {_eq: \"KT1NVvPsNDChrLRH5K2cy6Sc9r1uuUwdiZQd\"}}, token_id: {_in: '+ '['+','.join(f'\"{item}\"' for item in list(num)) + ']' +' }}}\\n  ) {\\n    id\\n    attribute_id\\n    attribute {\\n      id\\n      type\\n      value\\n      name\\n    }\\n    token {\\n      token_id\\n      last_metadata_update\\n      holders {\\n        holder_address\\n      }\\n    }\\n  }\\n}\\n'"
   ]
  },
  {
   "cell_type": "code",
   "execution_count": null,
   "metadata": {},
   "outputs": [],
   "source": [
    "a = ['a', 'b', 'c']\n",
    "query = \"SELECT * FROM foo WHERE bar IN (%s)\" % (', '.join(a))\n",
    "query"
   ]
  },
  {
   "cell_type": "code",
   "execution_count": 60,
   "metadata": {},
   "outputs": [
    {
     "data": {
      "text/plain": [
       "'query MyQuery {\\n  token(\\n    where: {fa: {contract: {_eq: \"KT1NVvPsNDChrLRH5K2cy6Sc9r1uuUwdiZQd\"}}, token_id: {_in: [\"1\", \"2\"]}}\\n  ) {   \\n    display_uri\\n    extra\\n    flag\\n    highest_offer\\n    is_boolean_amount\\n    last_listed\\n    last_metadata_update\\n    level\\n    lowest_ask\\n    name\\n    ophash\\n    \\n    supply\\n    symbol\\n    thumbnail_uri\\n    timestamp\\n    tzip16_key\\n  }\\n}\\n'"
      ]
     },
     "execution_count": 60,
     "metadata": {},
     "output_type": "execute_result"
    }
   ],
   "source": [
    "query"
   ]
  },
  {
   "cell_type": "code",
   "execution_count": 46,
   "metadata": {},
   "outputs": [],
   "source": [
    "#aquery ='query MyQuery {\\n  token_attribute(\\n    where: {token: {fa: {contract: {_eq: \"KT1NVvPsNDChrLRH5K2cy6Sc9r1uuUwdiZQd\"}}, token_id: {_in: '+ '['+','.join(f'\"{item}\"' for item in list(num)) + ']' +'}}}\\n  ) {\\n    id\\n    token {\\n      token_id\\n      last_metadata_update\\n      holders {\\n        holder_address\\n      }\\n    }\\n    token_pk\\n  }\\n}\\n'\n"
   ]
  },
  {
   "cell_type": "code",
   "execution_count": null,
   "metadata": {},
   "outputs": [],
   "source": [
    "type(a)"
   ]
  },
  {
   "cell_type": "code",
   "execution_count": 61,
   "metadata": {},
   "outputs": [],
   "source": [
    "aquery = 'query MyQuery {\\n  token(\\n    where: {fa: {contract: {_eq: \"KT1NVvPsNDChrLRH5K2cy6Sc9r1uuUwdiZQd\"}}, token_id: {_in: '+ '['+','.join(f'\"{item}\"' for item in list(num)) + ']' +'}}\\n  ) {   \\n    display_uri\\n    extra\\n    flag\\n    highest_offer\\n    is_boolean_amount\\n    last_listed\\n    last_metadata_update\\n    level\\n    lowest_ask\\n    name\\n    ophash\\n    \\n    supply\\n    symbol\\n    thumbnail_uri\\n    timestamp\\n    tzip16_key\\n  }\\n}\\n'\n"
   ]
  },
  {
   "cell_type": "code",
   "execution_count": null,
   "metadata": {},
   "outputs": [],
   "source": []
  },
  {
   "cell_type": "code",
   "execution_count": null,
   "metadata": {},
   "outputs": [],
   "source": []
  }
 ],
 "metadata": {
  "kernelspec": {
   "display_name": "Python 3.9.7 ('base')",
   "language": "python",
   "name": "python3"
  },
  "language_info": {
   "codemirror_mode": {
    "name": "ipython",
    "version": 3
   },
   "file_extension": ".py",
   "mimetype": "text/x-python",
   "name": "python",
   "nbconvert_exporter": "python",
   "pygments_lexer": "ipython3",
   "version": "3.9.7"
  },
  "orig_nbformat": 4,
  "vscode": {
   "interpreter": {
    "hash": "762a23e0ca037747c4affd5f0c6122122d63849c8d2dbb8c25803333a9bd6576"
   }
  }
 },
 "nbformat": 4,
 "nbformat_minor": 2
}
