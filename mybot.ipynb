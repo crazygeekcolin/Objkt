{
 "cells": [
  {
   "cell_type": "code",
   "execution_count": 1,
   "metadata": {},
   "outputs": [],
   "source": [
    "import numpy as np\n",
    "import pandas as pd\n",
    "import requests\n",
    "import json\n",
    "from datetime import datetime\n",
    "from datetime import timedelta\n",
    "# import everything from tkinter module\n",
    "from tkinter import *\n",
    "\n",
    "# import messagebox from tkinter module\n",
    "import tkinter.messagebox\n",
    "import time\n"
   ]
  },
  {
   "cell_type": "code",
   "execution_count": 2,
   "metadata": {},
   "outputs": [],
   "source": [
    "# Create a messagebox showinfo\n",
    "def onClick():\n",
    "    tkinter.messagebox.showinfo(\"Welcome to GFG.\", \"Hi I'm your message\")\n",
    "    \n",
    "#Create alert function\n",
    "def alert ():\n",
    "        #Creat alert\n",
    "    root = tkinter.Tk()\n",
    "\n",
    "    # root window title and dimension\n",
    "    root.title(\"New opportunity\")\n",
    "    root.geometry('500x300') \n",
    "\n",
    "    # Create a messagebox showinfo\n",
    "    #def onClick():\n",
    "        #tkinter.messagebox.showinfo(\"Welcome to GFG.\", \"Hi I'm your message\")\n",
    "\n",
    "    # Create a Button\n",
    "    button = Button(root, text=\"I understand\", command=onClick, height=5, width=10)\n",
    "\n",
    "    # Set the position of button on the top of window.\n",
    "    button.pack(side='bottom')\n",
    "    root.mainloop()\n",
    "    \n",
    "\n",
    "#Set ophash inadvance\n",
    "ophash = []\n",
    "\n",
    "#arbitrage bot contract\n"
   ]
  },
  {
   "cell_type": "code",
   "execution_count": 3,
   "metadata": {},
   "outputs": [
    {
     "name": "stdout",
     "output_type": "stream",
     "text": [
      "Running at 2023-02-12T09:17, no opportunity in loop 0\n"
     ]
    }
   ],
   "source": [
    "\n",
    "for t in range(1):\n",
    "    #times = (datetime.now()- timedelta(days=1)).isoformat(timespec='seconds')\n",
    "    #query = ' query MyQuery {\\n  event(\\n    limit: 200\\n        where: {marketplace_event_type: {_in: [\"list_create\", \"offer_create\", \"offer_floor_create\"]}, timestamp: {_gt: \"2023-01-17T20:17:43\"}, token: {highest_offer: {_is_null: false}, lowest_ask: {_is_null: false}, last_metadata_update: {_lt: \"'+ f'{times}' + '\"}}}\\n\\n    order_by: {timestamp: desc, token_pk: asc}\\n  ) {\\n    timestamp\\n    marketplace_event_type\\n      creator_address\\n    token_pk\\n    price\\n    token {\\n      fa_contract\\n      highest_offer\\n      lowest_ask\\n      token_id\\n      royalties {\\n        decimals\\n        amount\\n      }\\n    }\\n    ophash\\n  }\\n}\\n\\n '\n",
    "    query = \"\"\" \n",
    "        query MyQuery {\n",
    "        event(\n",
    "            limit: 200\n",
    "                where: {marketplace_event_type: {_in: [\"list_create\", \"offer_create\", \"offer_floor_create\"]}, timestamp: {_gt: \"2023-01-17T20:17:43\"}, token: {highest_offer: {_is_null: false}, lowest_ask: {_is_null: false}}}\n",
    "\n",
    "            order_by: {timestamp: desc, token_pk: asc}\n",
    "        ) {\n",
    "            timestamp\n",
    "            marketplace_event_type\n",
    "            creator_address\n",
    "            token_pk\n",
    "            price\n",
    "            token {\n",
    "            fa_contract\n",
    "            highest_offer\n",
    "            lowest_ask\n",
    "            token_id\n",
    "            royalties {\n",
    "                decimals\n",
    "                amount\n",
    "            }\n",
    "            }\n",
    "            ophash\n",
    "        }\n",
    "        }\n",
    "        \"\"\"\n",
    "\n",
    "    url = \"https://data.objkt.com/v3/graphql\"\n",
    "    r = requests.post(url, json={'query': query})\n",
    "    #print(r.status_code)\n",
    "    json_data = json.loads(r.text)\n",
    "    df = pd.json_normalize(json_data, record_path=['data','event']) # this parameter adjust to new queries\n",
    "    df['price'] =df['price']/1000000\n",
    "    df['token.highest_offer'] =df['token.highest_offer']/1000000 #Adjust the price, exclude the decimal\n",
    "    df['token.lowest_ask'] =df['token.lowest_ask']/1000000\n",
    "    #Counter the different offer\n",
    "    #a = pd.DataFrame.from_dict(Counter(df['token_pk']), orient= 'index')\n",
    "    #df.loc[[i in a[a[0]>1].index for i in df['token_pk']]] #A boolean column as criteria for selecting the record with token_pk appears multiple times\n",
    "    royalties = pd.json_normalize(json_data, record_path=['data', 'event', 'token', 'royalties'], meta=[['data','event','ophash']]) # this parameter adjust to new queries\n",
    "\n",
    "    b = [] #Loop from df['ophash']\n",
    "    for i in df['ophash']:\n",
    "        a = royalties[royalties['data.event.ophash']== i ]\n",
    "        b.extend([sum(a.amount*(1/10**a.decimals))]) #Operate of pandas series\n",
    "    df['royalties'] = b\n",
    "        \n",
    "\n",
    "    df_chance = df[\n",
    "        ((df['token.highest_offer']*(1-df['royalties'])>df['price']) \n",
    "         & (df['marketplace_event_type'] == 'list_create'))\n",
    "        | ((df['price']*(1-df['royalties'])>df['token.lowest_ask']) \n",
    "           & (df['marketplace_event_type'] != 'list_create'))\n",
    "        ] #filter the matrix first\n",
    "    df_chance = df_chance[[i not in ophash for i in df_chance['ophash']]] #filter the ophash collected before\n",
    "    #df_chance = df_chance[[i not in ['KT1J6GLMjrWgQ73knp2GZKUznTyc3b2Ek1mF'] for i in df_chance['token.fa_contract']]] #filter the ophash collected before\n",
    "        \n",
    "    if (len(df_chance)> 0):\n",
    "        ophash.extend(df_chance['ophash'])\n",
    "        print(df_chance[['timestamp', 'price', 'token.fa_contract','token.highest_offer','token.lowest_ask','token.token_id','royalties', 'ophash','creator_address', 'marketplace_event_type']])\n",
    "        \n",
    "        df_list_all= pd.Series([])\n",
    "        df_offer_all = pd.Series([])\n",
    "        for j in range(len(df_chance)):\n",
    "            k=df_chance.iloc[j]\n",
    "            if k['marketplace_event_type'] == \"list_create\":\n",
    "                query = ' \\nquery MyQuery {\\n  listing(\\n    where: {ophash: {_eq: \"'+ f'{k.ophash}' + '\"}, token_pk:{_eq: \"'+ f'{k.token_pk}' + '\"} , status: {_eq: \"active\"}}\\n    limit: 10\\n    order_by: {price: asc}\\n  ) {\\n    id\\n    price\\n    token_pk\\n    seller_address\\n    status\\n    timestamp\\n    bigmap_key\\n    ophash\\n    fa_contract\\n    token {\\n      token_id\\n    }\\n  }\\n  offer(\\n    limit: 10\\n    where: {status: {_eq: \"active\"}, fa_contract: {_eq: \"'+ f'{k[\"token.fa_contract\"]}' + '\"}, token: {token_id: {_eq: \"'+f'{k[\"token.token_id\"]}'+'\"}}}\\n  ) {\\n    price\\n    ophash\\n    buyer_address\\n    token_pk\\n    collection_offer\\n    fa_contract\\n    status\\n    timestamp\\n    token {\\n      token_id\\n    }\\n    bigmap_key\\n  }\\n}\\n\\n'\n",
    "                #url = \"https://data.objkt.com/v2/graphql\"\n",
    "                r_sub = requests.post(url, json={'query': query})\n",
    "                #print(r.status_code)\n",
    "                json_sub = json.loads(r_sub.text)\n",
    "                df_list = pd.json_normalize(json_sub, record_path=['data','listing'])\n",
    "                df_offer = pd.json_normalize(json_sub, record_path=['data','offer'])\n",
    "                df_list_all=pd.concat([df_list, df_list_all])\n",
    "                df_offer_all = pd.concat([df_offer, df_offer_all])\n",
    "                \n",
    "                \n",
    "            else:\n",
    "                query = ' \\nquery MyQuery {\\n  offer(\\n    where: {ophash: {_eq: \"' + f'{k.ophash}' + '\"},token_pk:{_eq: \"'+ f'{k.token_pk}' + '\"}, status: {_eq: \"active\"}}\\n    limit: 10\\n    order_by: {price: desc}\\n  ) {\\n    id\\n    price\\n    token_pk\\n    buyer_address\\n    status\\n    timestamp\\n    bigmap_key\\n    ophash\\n    fa_contract\\n    token {\\n      token_id\\n    }\\n  }\\n  listing(\\n    limit: 10\\n    where: {status: {_eq: \"active\"}, fa_contract: {_eq: \"' + f'{k[\"token.fa_contract\"]}' + '\"}, token: {token_id: {_eq: \"'+f'{k[\"token.token_id\"]}'+'\"}}}\\n    order_by: {price: asc}\\n  ) {\\n    token_pk\\n    price\\n    ophash\\n    seller_address  \\n    fa_contract\\n    status\\n    timestamp\\n    token {\\n      token_id\\n    }\\n    bigmap_key\\n  }\\n}\\n\\n'\n",
    "                r_sub = requests.post(url, json={'query': query})\n",
    "                json_sub = json.loads(r_sub.text)\n",
    "                df_list = pd.json_normalize(json_sub, record_path=['data','listing'])\n",
    "                df_offer = pd.json_normalize(json_sub, record_path=['data','offer'])\n",
    "                df_list_all=pd.concat([df_list, df_list_all])\n",
    "                df_offer_all = pd.concat([df_offer, df_offer_all])\n",
    "                #Sub summary:\n",
    "            print(df_list_all)\n",
    "            print(df_offer_all)\n",
    "            \n",
    "            #Out of if statement, to get unique value\n",
    "            if len(df_list_all) !=0 != len(df_offer_all):  #Aviod blank records, the length has to be non-zero\n",
    "                df_list_all.drop_duplicates(inplace= True,subset=['price']) #This sentence makes sure only 1 records picked up each time, use price as the key\n",
    "                df_offer_all.drop_duplicates(inplace= True,subset=['price'])\n",
    "                for l in range(len(df_chance)):\n",
    "                    index_list = [i == df_chance.iloc[l]['token.lowest_ask']*10**6 for i in df_list_all['price']]\n",
    "                    index_offer = [i == df_chance.iloc[l]['token.highest_offer']*10**6 for i in df_offer_all['price']]\n",
    "                    if [(True in index_list) &(True in index_offer)]: #Only 1 true value in each series\n",
    "                        #Create the Json\n",
    "                        \"\"\" sent = {\"fulfill_ask\":{\"ask_id\": int(df_list_all[df_list_all['price'] == df_chance.loc[l]['token.lowest_ask']*10**6]['bigmap_key'])},\n",
    "                        \"fulfill_offer\": {\"offer_id\": int(df_offer_all[index_offer]['bigmap_key']), \"token_id\": int(df_offer_all[index_offer]['token.token_id'])}} \"\"\"\n",
    "                        sent = {\"ask_id\": int(df_list_all[df_list_all['price'] == df_chance.iloc[l]['token.lowest_ask']*10**6]['bigmap_key']), \"offer_id\": int(df_offer_all[index_offer]['bigmap_key']), \"token_id\": int(df_offer_all[index_offer]['token.token_id'])}\n",
    "                        #Sent the Json, not keeping the data\n",
    "                        requests.post('http://127.0.0.1:3001/', json=sent)\n",
    "                    else:\n",
    "                        print('no matched value')\n",
    "            else:\n",
    "                print('missing active records')\n",
    "        alert()\n",
    "        \n",
    "    elif (t%60 == 0):\n",
    "        print(f'Running at {datetime.now().isoformat(timespec=\"minutes\")}, no opportunity in loop {t}')\n",
    "        \n",
    "        \n",
    "    time.sleep(12)\n",
    "        \n",
    "    \n",
    "    #PermissionError\n",
    "    #ConnectionError\n",
    "    #Suspicious contract: KT1J6GLMjrWgQ73knp2GZKUznTyc3b2Ek1mF\n",
    "    #Suspicious creator: tz1XqrVXcRKDLeWFNWMuDaxhhvYu6zE7WzZc\n",
    "    "
   ]
  },
  {
   "cell_type": "code",
   "execution_count": 4,
   "metadata": {},
   "outputs": [
    {
     "name": "stdout",
     "output_type": "stream",
     "text": [
      "Running at 2023-02-12T09:17, no opportunity in loop 0\n",
      "Running at 2023-02-12T09:29, no opportunity in loop 60\n",
      "Running at 2023-02-12T09:42, no opportunity in loop 120\n",
      "Running at 2023-02-12T09:54, no opportunity in loop 180\n",
      "Running at 2023-02-12T10:06, no opportunity in loop 240\n",
      "Running at 2023-02-12T10:18, no opportunity in loop 300\n",
      "Running at 2023-02-12T10:31, no opportunity in loop 360\n",
      "Running at 2023-02-12T10:43, no opportunity in loop 420\n",
      "Running at 2023-02-12T10:55, no opportunity in loop 480\n",
      "Running at 2023-02-12T11:07, no opportunity in loop 540\n",
      "Running at 2023-02-12T11:20, no opportunity in loop 600\n",
      "Running at 2023-02-12T11:32, no opportunity in loop 660\n",
      "Running at 2023-02-12T13:18, no opportunity in loop 720\n",
      "Running at 2023-02-12T13:30, no opportunity in loop 780\n",
      "Running at 2023-02-12T13:42, no opportunity in loop 840\n",
      "Running at 2023-02-12T13:55, no opportunity in loop 900\n",
      "Running at 2023-02-12T14:07, no opportunity in loop 960\n",
      "Running at 2023-02-12T14:19, no opportunity in loop 1020\n",
      "Running at 2023-02-12T14:31, no opportunity in loop 1080\n"
     ]
    }
   ],
   "source": [
    "\n",
    "for t in range(7200):\n",
    "    #times = (datetime.now()- timedelta(days=1)).isoformat(timespec='seconds')\n",
    "    #query = ' query MyQuery {\\n  event(\\n    limit: 200\\n        where: {marketplace_event_type: {_in: [\"list_create\", \"offer_create\", \"offer_floor_create\"]}, timestamp: {_gt: \"2023-01-17T20:17:43\"}, token: {highest_offer: {_is_null: false}, lowest_ask: {_is_null: false}, last_metadata_update: {_lt: \"'+ f'{times}' + '\"}}}\\n\\n    order_by: {timestamp: desc, token_pk: asc}\\n  ) {\\n    timestamp\\n    marketplace_event_type\\n      creator_address\\n    token_pk\\n    price\\n    token {\\n      fa_contract\\n      highest_offer\\n      lowest_ask\\n      token_id\\n      royalties {\\n        decimals\\n        amount\\n      }\\n    }\\n    ophash\\n  }\\n}\\n\\n '\n",
    "    query = \"\"\" \n",
    "        query MyQuery {\n",
    "  event(\n",
    "    limit: 20\n",
    "    where: {marketplace_event_type: {_in: [\"list_create\", \"offer_create\", \"offer_floor_create\"]}, timestamp: {_gt: \"2023-01-17T20:17:43\"}, token: {highest_offer: {_is_null: false}, lowest_ask: {_is_null: false}}, \n",
    "    creator_address: {_neq: \"tz1XqrVXcRKDLeWFNWMuDaxhhvYu6zE7WzZc\"}}\n",
    "    order_by: {timestamp: desc, token_pk: asc}\n",
    "  ) {\n",
    "    timestamp\n",
    "    marketplace_event_type\n",
    "    creator_address\n",
    "    token_pk\n",
    "    price\n",
    "    token {\n",
    "      fa_contract\n",
    "      highest_offer\n",
    "      lowest_ask\n",
    "      token_id\n",
    "      royalties {\n",
    "        decimals\n",
    "        amount\n",
    "      }\n",
    "    }\n",
    "    ophash\n",
    "  }\n",
    "}\n",
    "        \"\"\"\n",
    "\n",
    "    url = \"https://data.objkt.com/v3/graphql\"\n",
    "    r = requests.post(url, json={'query': query})\n",
    "    #print(r.status_code)\n",
    "    json_data = json.loads(r.text)\n",
    "    df = pd.json_normalize(json_data, record_path=['data','event']) # this parameter adjust to new queries\n",
    "    df['price'] =df['price']/1000000\n",
    "    df['token.highest_offer'] =df['token.highest_offer']/1000000 #Adjust the price, exclude the decimal\n",
    "    df['token.lowest_ask'] =df['token.lowest_ask']/1000000\n",
    "    #Counter the different offer\n",
    "    #a = pd.DataFrame.from_dict(Counter(df['token_pk']), orient= 'index')\n",
    "    #df.loc[[i in a[a[0]>1].index for i in df['token_pk']]] #A boolean column as criteria for selecting the record with token_pk appears multiple times\n",
    "    royalties = pd.json_normalize(json_data, record_path=['data', 'event', 'token', 'royalties'], meta=[['data','event','ophash']]) # this parameter adjust to new queries\n",
    "\n",
    "    b = [] #Loop from df['ophash']\n",
    "    for i in df['ophash']:\n",
    "        a = royalties[royalties['data.event.ophash']== i ]\n",
    "        b.extend([sum(a.amount*(1/10**a.decimals))]) #Operate of pandas series\n",
    "    df['royalties'] = b\n",
    "        \n",
    "\n",
    "    df_chance = df[\n",
    "        ((df['token.highest_offer']*(1-df['royalties'])>df['price']) \n",
    "         & (df['marketplace_event_type'] == 'list_create'))\n",
    "        | ((df['price']*(1-df['royalties'])>df['token.lowest_ask']) \n",
    "           & (df['marketplace_event_type'] != 'list_create'))\n",
    "        ] #filter the matrix first\n",
    "    df_chance = df_chance[[i not in ophash for i in df_chance['ophash']]] #filter the ophash collected before\n",
    "    df_chance.drop_duplicates(inplace= True,subset=['token.fa_contract']) #This sentence makes sure only 1 records picked up each time, use price as the key\n",
    "\n",
    "    #df_chance = df_chance[[i not in ['KT1J6GLMjrWgQ73knp2GZKUznTyc3b2Ek1mF'] for i in df_chance['token.fa_contract']]] #filter the ophash collected before\n",
    "        \n",
    "    if (len(df_chance)> 0):\n",
    "        ophash.extend(df_chance['ophash'])\n",
    "        print(df_chance[['timestamp', 'price', 'token.fa_contract','token.highest_offer','token.lowest_ask','token.token_id','royalties', 'ophash','creator_address', 'marketplace_event_type']])\n",
    "        \n",
    "\n",
    "        for j in range(len(df_chance)):\n",
    "            df_list_all= pd.Series([]) \n",
    "            df_offer_all = pd.Series([])\n",
    "            k=df_chance.iloc[j]\n",
    "            if k['marketplace_event_type'] == \"list_create\":\n",
    "                query = ' \\nquery MyQuery {\\n  listing(\\n    where: {ophash: {_eq: \"'+ f'{k.ophash}' + '\"}, token_pk:{_eq: \"'+ f'{k.token_pk}' + '\"} , status: {_eq: \"active\"}}\\n    limit: 10\\n    order_by: {price: asc}\\n  ) {\\n    id\\n    price\\n    token_pk\\n    seller_address\\n    status\\n    timestamp\\n    bigmap_key\\n    ophash\\n    fa_contract\\n    token {\\n      token_id\\n    }\\n  }\\n  offer(\\n    limit: 10\\n    where: {status: {_eq: \"active\"}, fa_contract: {_eq: \"'+ f'{k[\"token.fa_contract\"]}' + '\"}, token: {token_id: {_eq: \"'+f'{k[\"token.token_id\"]}'+'\"}}}\\n  ) {\\n    price\\n    ophash\\n    buyer_address\\n    token_pk\\n    collection_offer\\n    fa_contract\\n    status\\n    timestamp\\n    token {\\n      token_id\\n    }\\n    bigmap_key\\n  }\\n}\\n\\n'\n",
    "                #url = \"https://data.objkt.com/v2/graphql\"\n",
    "                r_sub = requests.post(url, json={'query': query})\n",
    "                #print(r.status_code)\n",
    "                json_sub = json.loads(r_sub.text)\n",
    "                df_list = pd.json_normalize(json_sub, record_path=['data','listing'])\n",
    "                df_offer = pd.json_normalize(json_sub, record_path=['data','offer'])\n",
    "                df_list_all=pd.concat([df_list, df_list_all])\n",
    "                df_offer_all = pd.concat([df_offer, df_offer_all])\n",
    "                \n",
    "                \n",
    "            else:\n",
    "                query = ' \\nquery MyQuery {\\n  offer(\\n    where: {ophash: {_eq: \"' + f'{k.ophash}' + '\"},token_pk:{_eq: \"'+ f'{k.token_pk}' + '\"}, status: {_eq: \"active\"}}\\n    limit: 10\\n    order_by: {price: desc}\\n  ) {\\n    id\\n    price\\n    token_pk\\n    buyer_address\\n    status\\n    timestamp\\n    bigmap_key\\n    ophash\\n    fa_contract\\n    token {\\n      token_id\\n    }\\n  }\\n  listing(\\n    limit: 10\\n    where: {status: {_eq: \"active\"}, fa_contract: {_eq: \"' + f'{k[\"token.fa_contract\"]}' + '\"}, token: {token_id: {_eq: \"'+f'{k[\"token.token_id\"]}'+'\"}}}\\n    order_by: {price: asc}\\n  ) {\\n    token_pk\\n    price\\n    ophash\\n    seller_address  \\n    fa_contract\\n    status\\n    timestamp\\n    token {\\n      token_id\\n    }\\n    bigmap_key\\n  }\\n}\\n\\n'\n",
    "                r_sub = requests.post(url, json={'query': query})\n",
    "                json_sub = json.loads(r_sub.text)\n",
    "                df_list = pd.json_normalize(json_sub, record_path=['data','listing'])\n",
    "                df_offer = pd.json_normalize(json_sub, record_path=['data','offer'])\n",
    "                df_list_all=pd.concat([df_list, df_list_all])\n",
    "                df_offer_all = pd.concat([df_offer, df_offer_all])\n",
    "                #Sub summary:\n",
    "            print(df_list_all)\n",
    "            print(df_offer_all)\n",
    "            \n",
    "            #Out of if statement, to get unique value\n",
    "            if len(df_list_all) !=0 != len(df_offer_all):  #Aviod blank records, the length has to be non-zero\n",
    "                df_list_all.drop_duplicates(inplace= True,subset=['price']) #This sentence makes sure only 1 records picked up each time, use price as the key\n",
    "                df_offer_all.drop_duplicates(inplace= True,subset=['price'])\n",
    "                for l in range(len(df_chance)):\n",
    "                    index_list = [i == df_chance.iloc[l]['token.lowest_ask']*10**6 or i == df_chance.iloc[l]['price']*10**6 for i in df_list_all['price']]\n",
    "                    index_offer = [i == df_chance.iloc[l]['token.highest_offer']*10**6 or i == df_chance.iloc[l]['price']*10**6 for i in df_offer_all['price']] #It could be a problem\n",
    "                    if [(True in index_list) &(True in index_offer)] == [True]: #Only 1 true value in each series\n",
    "                        #Create the Json\n",
    "                        \"\"\" sent = {\"fulfill_ask\":{\"ask_id\": int(df_list_all[df_list_all['price'] == df_chance.loc[l]['token.lowest_ask']*10**6]['bigmap_key'])},\n",
    "                        \"fulfill_offer\": {\"offer_id\": int(df_offer_all[index_offer]['bigmap_key']), \"token_id\": int(df_offer_all[index_offer]['token.token_id'])}} \"\"\"\n",
    "                        sent = {\"ask_id\": int(df_list_all[df_list_all['price'] == df_chance.iloc[l]['token.lowest_ask']*10**6]['bigmap_key']), \"offer_id\": int(df_offer_all[index_offer]['bigmap_key']), \"token_id\": int(df_offer_all[index_offer]['token.token_id'])}\n",
    "                        #Sent the Json, not keeping the data\n",
    "                        #requests.post('http://127.0.0.1:3001/', json=sent)\n",
    "                        print(sent)\n",
    "                    else:\n",
    "                        print('no matched value')\n",
    "            else:\n",
    "                print('missing active records')\n",
    "        alert()\n",
    "        \n",
    "    elif (t%60 == 0):\n",
    "        print(f'Running at {datetime.now().isoformat(timespec=\"minutes\")}, no opportunity in loop {t}')\n",
    "        \n",
    "        \n",
    "    time.sleep(12)\n",
    "        \n",
    "    \n",
    "    #PermissionError\n",
    "    #ConnectionError\n",
    "    #Suspicious contract: KT1J6GLMjrWgQ73knp2GZKUznTyc3b2Ek1mF\n",
    "    #Suspicious creator: tz1XqrVXcRKDLeWFNWMuDaxhhvYu6zE7WzZc\n",
    "    "
   ]
  },
  {
   "cell_type": "code",
   "execution_count": null,
   "metadata": {},
   "outputs": [
    {
     "ename": "SyntaxError",
     "evalue": "invalid syntax (3299761268.py, line 1)",
     "output_type": "error",
     "traceback": [
      "\u001b[1;36m  Cell \u001b[1;32mIn[6], line 1\u001b[1;36m\u001b[0m\n\u001b[1;33m    --> 107     sent = {\"ask_id\": int(df_list_all[df_list_all['price'] == df_chance.iloc[l]['token.lowest_ask']*10**6]['bigmap_key']), \"offer_id\": int(df_offer_all[index_offer]['bigmap_key']), \"token_id\": int(df_offer_all[index_offer]['token.token_id'])}\u001b[0m\n\u001b[1;37m     ^\u001b[0m\n\u001b[1;31mSyntaxError\u001b[0m\u001b[1;31m:\u001b[0m invalid syntax\n"
     ]
    }
   ],
   "source": [
    "sent"
   ]
  },
  {
   "cell_type": "code",
   "execution_count": null,
   "metadata": {},
   "outputs": [
    {
     "data": {
      "text/html": [
       "<div>\n",
       "<style scoped>\n",
       "    .dataframe tbody tr th:only-of-type {\n",
       "        vertical-align: middle;\n",
       "    }\n",
       "\n",
       "    .dataframe tbody tr th {\n",
       "        vertical-align: top;\n",
       "    }\n",
       "\n",
       "    .dataframe thead th {\n",
       "        text-align: right;\n",
       "    }\n",
       "</style>\n",
       "<table border=\"1\" class=\"dataframe\">\n",
       "  <thead>\n",
       "    <tr style=\"text-align: right;\">\n",
       "      <th></th>\n",
       "      <th>id</th>\n",
       "      <th>price</th>\n",
       "      <th>token_pk</th>\n",
       "      <th>seller_address</th>\n",
       "      <th>status</th>\n",
       "      <th>timestamp</th>\n",
       "      <th>bigmap_key</th>\n",
       "      <th>ophash</th>\n",
       "      <th>fa_contract</th>\n",
       "      <th>token.token_id</th>\n",
       "      <th>0</th>\n",
       "    </tr>\n",
       "  </thead>\n",
       "  <tbody>\n",
       "    <tr>\n",
       "      <th>0</th>\n",
       "      <td>5683298.0</td>\n",
       "      <td>5000000.0</td>\n",
       "      <td>14036125.0</td>\n",
       "      <td>tz1bkoDd8NAkfuv1oVU4sCY7JiSqA8Qs6jU1</td>\n",
       "      <td>active</td>\n",
       "      <td>2023-02-07T13:32:14+00:00</td>\n",
       "      <td>867963.0</td>\n",
       "      <td>onscpBonkKcPy2fmmDx4ezxRAsCE9QRTHRJoCE6icbLjmx...</td>\n",
       "      <td>KT1KEa8z6vWXDJrVqtMrAeDVzsvxat3kHaCE</td>\n",
       "      <td>350147</td>\n",
       "      <td>NaN</td>\n",
       "    </tr>\n",
       "  </tbody>\n",
       "</table>\n",
       "</div>"
      ],
      "text/plain": [
       "          id      price    token_pk                        seller_address  \\\n",
       "0  5683298.0  5000000.0  14036125.0  tz1bkoDd8NAkfuv1oVU4sCY7JiSqA8Qs6jU1   \n",
       "\n",
       "   status                  timestamp  bigmap_key  \\\n",
       "0  active  2023-02-07T13:32:14+00:00    867963.0   \n",
       "\n",
       "                                              ophash  \\\n",
       "0  onscpBonkKcPy2fmmDx4ezxRAsCE9QRTHRJoCE6icbLjmx...   \n",
       "\n",
       "                            fa_contract token.token_id   0  \n",
       "0  KT1KEa8z6vWXDJrVqtMrAeDVzsvxat3kHaCE         350147 NaN  "
      ]
     },
     "execution_count": 15,
     "metadata": {},
     "output_type": "execute_result"
    }
   ],
   "source": [
    "df_list_all"
   ]
  },
  {
   "cell_type": "code",
   "execution_count": null,
   "metadata": {},
   "outputs": [
    {
     "data": {
      "text/html": [
       "<div>\n",
       "<style scoped>\n",
       "    .dataframe tbody tr th:only-of-type {\n",
       "        vertical-align: middle;\n",
       "    }\n",
       "\n",
       "    .dataframe tbody tr th {\n",
       "        vertical-align: top;\n",
       "    }\n",
       "\n",
       "    .dataframe thead th {\n",
       "        text-align: right;\n",
       "    }\n",
       "</style>\n",
       "<table border=\"1\" class=\"dataframe\">\n",
       "  <thead>\n",
       "    <tr style=\"text-align: right;\">\n",
       "      <th></th>\n",
       "      <th>price</th>\n",
       "      <th>ophash</th>\n",
       "      <th>buyer_address</th>\n",
       "      <th>token_pk</th>\n",
       "      <th>collection_offer</th>\n",
       "      <th>fa_contract</th>\n",
       "      <th>status</th>\n",
       "      <th>timestamp</th>\n",
       "      <th>bigmap_key</th>\n",
       "      <th>token.token_id</th>\n",
       "      <th>0</th>\n",
       "    </tr>\n",
       "  </thead>\n",
       "  <tbody>\n",
       "    <tr>\n",
       "      <th>0</th>\n",
       "      <td>6000000.0</td>\n",
       "      <td>op47qw5eu9J3WAeGhX8khBbgACVH7wP6RvwF685SMbss85...</td>\n",
       "      <td>tz1ZQNJ2jb7WcoYjFaSsboAC6YUs1T577A95</td>\n",
       "      <td>14036125.0</td>\n",
       "      <td>None</td>\n",
       "      <td>KT1KEa8z6vWXDJrVqtMrAeDVzsvxat3kHaCE</td>\n",
       "      <td>active</td>\n",
       "      <td>2023-02-07T12:57:44+00:00</td>\n",
       "      <td>53108.0</td>\n",
       "      <td>350147</td>\n",
       "      <td>NaN</td>\n",
       "    </tr>\n",
       "  </tbody>\n",
       "</table>\n",
       "</div>"
      ],
      "text/plain": [
       "       price                                             ophash  \\\n",
       "0  6000000.0  op47qw5eu9J3WAeGhX8khBbgACVH7wP6RvwF685SMbss85...   \n",
       "\n",
       "                          buyer_address    token_pk collection_offer  \\\n",
       "0  tz1ZQNJ2jb7WcoYjFaSsboAC6YUs1T577A95  14036125.0             None   \n",
       "\n",
       "                            fa_contract  status                  timestamp  \\\n",
       "0  KT1KEa8z6vWXDJrVqtMrAeDVzsvxat3kHaCE  active  2023-02-07T12:57:44+00:00   \n",
       "\n",
       "   bigmap_key token.token_id   0  \n",
       "0     53108.0         350147 NaN  "
      ]
     },
     "execution_count": 16,
     "metadata": {},
     "output_type": "execute_result"
    }
   ],
   "source": [
    "df_offer_all"
   ]
  },
  {
   "cell_type": "code",
   "execution_count": null,
   "metadata": {},
   "outputs": [
    {
     "data": {
      "text/plain": [
       "<Response [200]>"
      ]
     },
     "execution_count": 43,
     "metadata": {},
     "output_type": "execute_result"
    }
   ],
   "source": [
    "requests.post('http://127.0.0.1:3000/', json=sent)\n"
   ]
  },
  {
   "cell_type": "code",
   "execution_count": null,
   "metadata": {},
   "outputs": [
    {
     "data": {
      "text/plain": [
       "True"
      ]
     },
     "execution_count": 24,
     "metadata": {},
     "output_type": "execute_result"
    }
   ],
   "source": [
    "[(True in index_list) &(True in index_offer)] == [False]"
   ]
  },
  {
   "cell_type": "code",
   "execution_count": null,
   "metadata": {},
   "outputs": [],
   "source": [
    "sent = {\"ask_id\": int(df_list_all[df_list_all['price'] == df_chance.loc[0]['token.lowest_ask']*10**6]['bigmap_key']), \"offer_id\": int(df_offer_all[index_offer]['bigmap_key']), \"token_id\": int(df_offer_all[index_offer]['token.token_id'])}\n"
   ]
  },
  {
   "cell_type": "code",
   "execution_count": null,
   "metadata": {},
   "outputs": [
    {
     "data": {
      "text/plain": [
       "Series([], Name: bigmap_key, dtype: float64)"
      ]
     },
     "execution_count": 16,
     "metadata": {},
     "output_type": "execute_result"
    }
   ],
   "source": [
    "df_list_all[df_list_all['price'] == df_chance.loc[0]['token.lowest_ask']*10**6]['bigmap_key']"
   ]
  },
  {
   "cell_type": "code",
   "execution_count": null,
   "metadata": {},
   "outputs": [],
   "source": [
    "sent = {\"ask_id\": int(df_list_all[df_list_all['price'] == df_chance.loc[l]['token.lowest_ask']*10**6]['bigmap_key']), \"offer_id\": int(df_offer_all[index_offer]['bigmap_key']), \"token_id\": int(df_offer_all[index_offer]['token.token_id'])}"
   ]
  },
  {
   "cell_type": "code",
   "execution_count": null,
   "metadata": {},
   "outputs": [
    {
     "data": {
      "text/html": [
       "<div>\n",
       "<style scoped>\n",
       "    .dataframe tbody tr th:only-of-type {\n",
       "        vertical-align: middle;\n",
       "    }\n",
       "\n",
       "    .dataframe tbody tr th {\n",
       "        vertical-align: top;\n",
       "    }\n",
       "\n",
       "    .dataframe thead th {\n",
       "        text-align: right;\n",
       "    }\n",
       "</style>\n",
       "<table border=\"1\" class=\"dataframe\">\n",
       "  <thead>\n",
       "    <tr style=\"text-align: right;\">\n",
       "      <th></th>\n",
       "      <th>timestamp</th>\n",
       "      <th>marketplace_event_type</th>\n",
       "      <th>creator_address</th>\n",
       "      <th>token_pk</th>\n",
       "      <th>price</th>\n",
       "      <th>ophash</th>\n",
       "      <th>token.fa_contract</th>\n",
       "      <th>token.highest_offer</th>\n",
       "      <th>token.lowest_ask</th>\n",
       "      <th>token.token_id</th>\n",
       "      <th>token.royalties</th>\n",
       "      <th>royalties</th>\n",
       "    </tr>\n",
       "  </thead>\n",
       "  <tbody>\n",
       "    <tr>\n",
       "      <th>0</th>\n",
       "      <td>2023-02-04T15:53:14+00:00</td>\n",
       "      <td>list_create</td>\n",
       "      <td>tz1eK6niFEPoaa3EfBfzLLXV2A6KVBma3YNs</td>\n",
       "      <td>48655176</td>\n",
       "      <td>-0.000001</td>\n",
       "      <td>onutoWDs4LmaHNBtcFRRPBVQN4B4bVDeVinaRGG2PRi7n6...</td>\n",
       "      <td>KT1CVFAfCjN8hcFJVybwtBZaXb2MDwPHXrpB</td>\n",
       "      <td>11.11</td>\n",
       "      <td>1111.0</td>\n",
       "      <td>0</td>\n",
       "      <td>[{'decimals': 4, 'amount': 1100}]</td>\n",
       "      <td>0.11</td>\n",
       "    </tr>\n",
       "  </tbody>\n",
       "</table>\n",
       "</div>"
      ],
      "text/plain": [
       "                   timestamp marketplace_event_type  \\\n",
       "0  2023-02-04T15:53:14+00:00            list_create   \n",
       "\n",
       "                        creator_address  token_pk     price  \\\n",
       "0  tz1eK6niFEPoaa3EfBfzLLXV2A6KVBma3YNs  48655176 -0.000001   \n",
       "\n",
       "                                              ophash  \\\n",
       "0  onutoWDs4LmaHNBtcFRRPBVQN4B4bVDeVinaRGG2PRi7n6...   \n",
       "\n",
       "                      token.fa_contract  token.highest_offer  \\\n",
       "0  KT1CVFAfCjN8hcFJVybwtBZaXb2MDwPHXrpB                11.11   \n",
       "\n",
       "   token.lowest_ask token.token_id                    token.royalties  \\\n",
       "0            1111.0              0  [{'decimals': 4, 'amount': 1100}]   \n",
       "\n",
       "   royalties  \n",
       "0       0.11  "
      ]
     },
     "execution_count": 18,
     "metadata": {},
     "output_type": "execute_result"
    }
   ],
   "source": [
    "df_chance"
   ]
  },
  {
   "cell_type": "code",
   "execution_count": null,
   "metadata": {},
   "outputs": [
    {
     "data": {
      "text/plain": [
       "0    700000.0\n",
       "Name: price, dtype: float64"
      ]
     },
     "execution_count": 17,
     "metadata": {},
     "output_type": "execute_result"
    }
   ],
   "source": [
    "df_list_all['price']"
   ]
  },
  {
   "cell_type": "code",
   "execution_count": null,
   "metadata": {},
   "outputs": [
    {
     "data": {
      "text/plain": [
       "[False]"
      ]
     },
     "execution_count": 20,
     "metadata": {},
     "output_type": "execute_result"
    }
   ],
   "source": [
    "index_list"
   ]
  },
  {
   "cell_type": "code",
   "execution_count": null,
   "metadata": {},
   "outputs": [
    {
     "data": {
      "text/plain": [
       "[True]"
      ]
     },
     "execution_count": 19,
     "metadata": {},
     "output_type": "execute_result"
    }
   ],
   "source": [
    "index_offer"
   ]
  },
  {
   "cell_type": "code",
   "execution_count": null,
   "metadata": {},
   "outputs": [
    {
     "name": "stdout",
     "output_type": "stream",
     "text": [
      " \n",
      "query MyQuery {\n",
      "  offer(\n",
      "    where: {ophash: {_eq: \"ooyRRveJ32NwBPVThfgkF1pSS2wFGK6pKceS7Li8RHborYnTHgX\"},token_pk:{_eq: \"48574199\"}, status: {_eq: \"active\"}}\n",
      "    limit: 10\n",
      "    order_by: {price: desc}\n",
      "  ) {\n",
      "    id\n",
      "    pricen    token_pk\n",
      "    buyer_address\n",
      "    status\n",
      "    timestamp\n",
      "    bigmap_key\n",
      "    ophash\n",
      "    fa_contract\n",
      "    token {\n",
      "      token_id\n",
      "    }\n",
      "  }\n",
      "  listing(\n",
      "    limit: 10\n",
      "    where: {status: {_eq: \"active\"}, fa_contract: {_eq: \"KT1JVYRDSSosBhYcJvwMEdBUsNkzVNChWnkw \"}, token: {token_id: {_eq: \"21\"}}}\n",
      "    order_by: {price: asc}\n",
      "  ) {\n",
      "    token_pk\n",
      "    price\n",
      "    ophash\n",
      "    seller_address  \n",
      "    fa_contract\n",
      "    status\n",
      "    timestamp\n",
      "    token {\n",
      "      token_id\n",
      "    }\n",
      "    bigmap_key\n",
      "  }\n",
      "}\n",
      "\n",
      "\n"
     ]
    }
   ],
   "source": [
    "print(query)"
   ]
  },
  {
   "cell_type": "code",
   "execution_count": null,
   "metadata": {},
   "outputs": [
    {
     "data": {
      "text/plain": [
       "True"
      ]
     },
     "execution_count": 32,
     "metadata": {},
     "output_type": "execute_result"
    }
   ],
   "source": []
  },
  {
   "cell_type": "code",
   "execution_count": null,
   "metadata": {},
   "outputs": [],
   "source": [
    "df.to_json('chance')"
   ]
  },
  {
   "cell_type": "code",
   "execution_count": null,
   "metadata": {},
   "outputs": [],
   "source": [
    "root = tkinter.Tk()\n",
    "\n",
    "# root window title and dimension\n",
    "root.title(\"The run is ended\")\n",
    "root.geometry('500x300')\n",
    "\n",
    "# Create a messagebox showinfo\n",
    "#def onClick():\n",
    "    #tkinter.messagebox.showinfo(\"Welcome to GFG.\", \"Hi I'm your message\")\n",
    "\n",
    "# Create a Button\n",
    "button = Button(root, text=\"Good to know\", command=onClick, height=5, width=10)\n",
    "\n",
    "# Set the position of button on the top of window.\n",
    "button.pack(side='bottom')\n",
    "root.mainloop()"
   ]
  },
  {
   "cell_type": "code",
   "execution_count": null,
   "metadata": {},
   "outputs": [],
   "source": [
    "times = (datetime.now()- timedelta(days=1)).isoformat(timespec='seconds')\n",
    "query = ' query MyQuery {\\n  event(\\n    limit: 200\\n        where: {marketplace_event_type: {_in: [\"list_create\", \"offer_create\", \"offer_floor_create\"]}, timestamp: {_gt: \"2023-01-17T20:17:43\"}, token: {highest_offer: {_is_null: false}, lowest_ask: {_is_null: false}, last_metadata_update: {_lt: \"'+ f'{times}' + '\"}}}\\n\\n    order_by: {timestamp: desc, token_pk: asc}\\n  ) {\\n    timestamp\\n    marketplace_event_type\\n      creator_address\\n    token_pk\\n    price\\n    token {\\n      fa_contract\\n      highest_offer\\n      lowest_ask\\n      token_id\\n      royalties {\\n        decimals\\n        amount\\n      }\\n    }\\n    ophash\\n  }\\n}\\n\\n '\n"
   ]
  },
  {
   "cell_type": "code",
   "execution_count": null,
   "metadata": {},
   "outputs": [
    {
     "name": "stdout",
     "output_type": "stream",
     "text": [
      " query MyQuery {\n",
      "  event(\n",
      "    limit: 200\n",
      "        where: {marketplace_event_type: {_in: [\"list_create\", \"offer_create\", \"offer_floor_create\"]}, timestamp: {_gt: \"2023-01-17T20:17:43\"}, token: {highest_offer: {_is_null: false}, lowest_ask: {_is_null: false}, last_metadata_update: {_lt: \"2023-01-21T08:48:27\"}}}\n",
      "\n",
      "    order_by: {timestamp: desc, token_pk: asc}\n",
      "  ) {\n",
      "    timestamp\n",
      "    marketplace_event_type\n",
      "      creator_address\n",
      "    token_pk\n",
      "    price\n",
      "    token {\n",
      "      fa_contract\n",
      "      highest_offer\n",
      "      lowest_ask\n",
      "      token_id\n",
      "      royalties {\n",
      "        decimals\n",
      "        amount\n",
      "      }\n",
      "    }\n",
      "    ophash\n",
      "  }\n",
      "}\n",
      "\n",
      " \n"
     ]
    }
   ],
   "source": [
    "print(query)"
   ]
  },
  {
   "cell_type": "code",
   "execution_count": null,
   "metadata": {},
   "outputs": [],
   "source": [
    "query = \"\"\" \n",
    " query MyQuery {\n",
    "  event(\n",
    "    limit: 200\n",
    "        where: {marketplace_event_type: {_in: [\"list_create\", \"offer_create\", \"offer_floor_create\"]}, timestamp: {_gt: \"2023-01-17T20:17:43\"}, token: {highest_offer: {_is_null: false}, lowest_ask: {_is_null: false}}}\n",
    "\n",
    "    order_by: {timestamp: desc, token_pk: asc}\n",
    "  ) {\n",
    "    timestamp\n",
    "    marketplace_event_type\n",
    "      creator_address\n",
    "    token_pk\n",
    "    price\n",
    "    token {\n",
    "      fa_contract\n",
    "      highest_offer\n",
    "      lowest_ask\n",
    "      token_id\n",
    "      royalties {\n",
    "        decimals\n",
    "        amount\n",
    "      }\n",
    "    }\n",
    "    ophash\n",
    "  }\n",
    "}\n",
    "\"\"\""
   ]
  }
 ],
 "metadata": {
  "kernelspec": {
   "display_name": "Python 3",
   "language": "python",
   "name": "python3"
  },
  "language_info": {
   "codemirror_mode": {
    "name": "ipython",
    "version": 3
   },
   "file_extension": ".py",
   "mimetype": "text/x-python",
   "name": "python",
   "nbconvert_exporter": "python",
   "pygments_lexer": "ipython3",
   "version": "3.11.0"
  },
  "orig_nbformat": 4,
  "vscode": {
   "interpreter": {
    "hash": "c261aea317cc0286b3b3261fbba9abdec21eaa57589985bb7a274bf54d6cc0a7"
   }
  }
 },
 "nbformat": 4,
 "nbformat_minor": 2
}
